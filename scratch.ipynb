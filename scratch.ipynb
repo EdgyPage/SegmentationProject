{
 "cells": [
  {
   "cell_type": "code",
   "execution_count": 8,
   "metadata": {},
   "outputs": [
    {
     "data": {
      "text/plain": [
       "<All keys matched successfully>"
      ]
     },
     "execution_count": 8,
     "metadata": {},
     "output_type": "execute_result"
    }
   ],
   "source": [
    "import torch\n",
    "import unet\n",
    "\n",
    "model = unet.unet()\n",
    "model.load_state_dict(torch.load(r\"C:\\Users\\myfir\\My Drive\\Segmentation_Files\\Models\\unet_norm\\weightsNorm\\unetNorm_VL_1880_E_100_B_16_LR_0.001.pt\"))"
   ]
  },
  {
   "cell_type": "code",
   "execution_count": 9,
   "metadata": {},
   "outputs": [
    {
     "name": "stdout",
     "output_type": "stream",
     "text": [
      "None\n"
     ]
    }
   ],
   "source": [
    "print(model.traningLosses)"
   ]
  },
  {
   "cell_type": "code",
   "execution_count": null,
   "metadata": {},
   "outputs": [],
   "source": [
    "\n",
    "#thanks, ChatGPT\n",
    "\n",
    "\n",
    "## file for testing the following: how models save and git\n",
    "\n",
    "\n",
    "import torch\n",
    "import torch.nn as nn\n",
    "\n",
    "# Define your model class\n",
    "class MyModel(nn.Module):\n",
    "    def __init__(self):\n",
    "        super(MyModel, self).__init__()\n",
    "        # Define your model layers\n",
    "\n",
    "# Instantiate your model\n",
    "model = MyModel()\n",
    "\n",
    "# Additional attributes\n",
    "model_name = \"MyModel\"\n",
    "other_attribute = \"Some value\"\n",
    "\n",
    "# Save the model and additional attributes\n",
    "torch.save(\n",
    "    {\n",
    "    'model_state_dict': model.state_dict(),\n",
    "    'model_name': model_name,\n",
    "    'other_attribute': other_attribute\n",
    "}\n",
    "    , 'model_checkpoint.pth')\n",
    "\n",
    "# Load the model and additional attributes\n",
    "checkpoint = torch.load('model_checkpoint.pth')\n",
    "loaded_model = MyModel()\n",
    "loaded_model.load_state_dict(checkpoint['model_state_dict'])\n",
    "loaded_model_name = checkpoint['model_name']\n",
    "loaded_other_attribute = checkpoint['other_attribute']\n",
    "\n",
    "print(\"Model Name:\", loaded_model_name)\n",
    "print(\"Other Attribute:\", loaded_other_attribute)\n"
   ]
  }
 ],
 "metadata": {
  "kernelspec": {
   "display_name": "Python 3",
   "language": "python",
   "name": "python3"
  },
  "language_info": {
   "codemirror_mode": {
    "name": "ipython",
    "version": 3
   },
   "file_extension": ".py",
   "mimetype": "text/x-python",
   "name": "python",
   "nbconvert_exporter": "python",
   "pygments_lexer": "ipython3",
   "version": "3.11.4"
  }
 },
 "nbformat": 4,
 "nbformat_minor": 2
}
