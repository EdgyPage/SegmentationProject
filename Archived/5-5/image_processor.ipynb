{
 "cells": [
  {
   "cell_type": "code",
   "execution_count": 3,
   "metadata": {},
   "outputs": [],
   "source": [
    "import torch\n",
    "import os\n",
    "from PIL import Image\n",
    "import torchvision\n",
    "from torch.utils.data import DataLoader, ConcatDataset, Dataset, random_split"
   ]
  },
  {
   "cell_type": "code",
   "execution_count": 4,
   "metadata": {},
   "outputs": [],
   "source": [
    "class TrainVal(Dataset):\n",
    "    def __init__(self, imageDir, labelDir, imageTransform = None, labelTransform = None):\n",
    "        super().__init__()\n",
    "        self.imageDir = imageDir\n",
    "        self.labelDir = labelDir\n",
    "        self.imageTransform = imageTransform\n",
    "        self.labelTransform = labelTransform\n",
    "\n",
    "        self.imageFileNames = os.listdir(imageDir)\n",
    "        self.labelFileNames = os.listdir(labelDir)\n",
    "\n",
    "    def __len__(self):\n",
    "        return len(self.imageFileNames)\n",
    "    \n",
    "    def __getitem__(self, index):\n",
    "        imageName = self.imageFileNames[index]\n",
    "        labelName = self.labelFileNames[index]\n",
    "\n",
    "        imagePath = os.path.join(self.imageDir, imageName)\n",
    "        labelPath = os.path.join(self.labelDir, labelName)\n",
    "\n",
    "        #converts images to greyscale. Labels out to be greyscale already but it doesn't hurt to convert again.\n",
    "        image = torchvision.io.read_image(imagePath, mode = torchvision.io.image.ImageReadMode.GRAY).float()\n",
    "        label = torchvision.io.read_image(labelPath, mode = torchvision.io.image.ImageReadMode.GRAY).float()\n",
    "\n",
    "        if self.imageTransform:\n",
    "            image = self.imageTransform(image)\n",
    "        \n",
    "        if self.labelTransform:\n",
    "            label = self.labelTransform(label)\n",
    "\n",
    "        #squeezes label image to flattened tensor for comparison\n",
    "        label = label.squeeze(0)\n",
    "\n",
    "        return image, label"
   ]
  },
  {
   "cell_type": "code",
   "execution_count": null,
   "metadata": {},
   "outputs": [],
   "source": [
    "def imageDirsToLoaders(imageDir : str, labelDir: str, batchSize :int = 32, trainSplit : float = .8, imageTransforms : list = None, labelTransforms : list = None):\n",
    "    dataset = TrainVal(imageDir= imageDir, labelDir= labelDir, imageTransform= imageTransforms, labelTransform=labelTransforms)\n",
    "\n",
    "    trainSize = int(trainSplit * len(dataset))\n",
    "    valSize = len(dataset) - trainSize\n",
    "\n",
    "    trainSet, valSet = random_split(dataset, [trainSize, valSize])\n",
    "\n",
    "    trainLoader = DataLoader(trainSet, batch_size= batchSize, shuffle=True)\n",
    "    valLoader = DataLoader(valSet,batch_size= batchSize, shuffle=True)\n",
    "\n",
    "    return trainLoader, valLoader\n",
    "\n"
   ]
  }
 ],
 "metadata": {
  "kernelspec": {
   "display_name": "Python 3",
   "language": "python",
   "name": "python3"
  },
  "language_info": {
   "codemirror_mode": {
    "name": "ipython",
    "version": 3
   },
   "file_extension": ".py",
   "mimetype": "text/x-python",
   "name": "python",
   "nbconvert_exporter": "python",
   "pygments_lexer": "ipython3",
   "version": "3.11.4"
  }
 },
 "nbformat": 4,
 "nbformat_minor": 2
}
