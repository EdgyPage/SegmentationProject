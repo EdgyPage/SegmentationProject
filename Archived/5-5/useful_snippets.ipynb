{
 "cells": [
  {
   "cell_type": "code",
   "execution_count": null,
   "metadata": {},
   "outputs": [],
   "source": [
    "\"\"\"\n",
    "Useful code snippet to delete keys from old model param dictionaries\n",
    "Used to clean up old 16x models that had useless layers in them\n",
    "\n",
    "def modelWriter(model, path : str):\n",
    "    torch.save(model.state_dict(), path)\n",
    "topModelPaths = sortFirstNFiles(modelDirectory, 24)\n",
    "for modelPath in topModelPaths:\n",
    "    model = unet.unet()\n",
    "    statedict = torch.load(modelPath)\n",
    "\n",
    "    del statedict['fixedOutput.bias']\n",
    "    del statedict['fixedOutput.weight']\n",
    "    model.load_state_dict(statedict)\n",
    "    modelWriter(model, modelPath)\n",
    "\n",
    "\"\"\"    "
   ]
  },
  {
   "cell_type": "code",
   "execution_count": null,
   "metadata": {},
   "outputs": [],
   "source": [
    "#thanks, ChatGPT\n",
    "\n",
    "\n",
    "## file for testing the following: how models save and git\n",
    "\n",
    "\n",
    "import torch\n",
    "import torch.nn as nn\n",
    "\n",
    "# Define your model class\n",
    "class MyModel(nn.Module):\n",
    "    def __init__(self):\n",
    "        super(MyModel, self).__init__()\n",
    "        # Define your model layers\n",
    "\n",
    "# Instantiate your model\n",
    "model = MyModel()\n",
    "\n",
    "# Additional attributes\n",
    "model_name = \"MyModel\"\n",
    "other_attribute = \"Some value\"\n",
    "\n",
    "# Save the model and additional attributes\n",
    "torch.save(\n",
    "    {\n",
    "    'model_state_dict': model.state_dict(),\n",
    "    'model_name': model_name,\n",
    "    'other_attribute': other_attribute\n",
    "}\n",
    "    , 'model_checkpoint.pth')\n",
    "\n",
    "# Load the model and additional attributes\n",
    "checkpoint = torch.load('model_checkpoint.pth')\n",
    "loaded_model = MyModel()\n",
    "loaded_model.load_state_dict(checkpoint['model_state_dict'])\n",
    "loaded_model_name = checkpoint['model_name']\n",
    "loaded_other_attribute = checkpoint['other_attribute']\n",
    "\n",
    "print(\"Model Name:\", loaded_model_name)\n",
    "print(\"Other Attribute:\", loaded_other_attribute)"
   ]
  }
 ],
 "metadata": {
  "language_info": {
   "name": "python"
  }
 },
 "nbformat": 4,
 "nbformat_minor": 2
}
