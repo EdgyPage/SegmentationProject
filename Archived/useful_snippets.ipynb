{
 "cells": [
  {
   "cell_type": "code",
   "execution_count": null,
   "metadata": {},
   "outputs": [],
   "source": [
    "\"\"\"\n",
    "Useful code snippet to delete keys from old model param dictionaries\n",
    "Used to clean up old 16x models that had useless layers in them\n",
    "\n",
    "def modelWriter(model, path : str):\n",
    "    torch.save(model.state_dict(), path)\n",
    "topModelPaths = sortFirstNFiles(modelDirectory, 24)\n",
    "for modelPath in topModelPaths:\n",
    "    model = unet.unet()\n",
    "    statedict = torch.load(modelPath)\n",
    "\n",
    "    del statedict['fixedOutput.bias']\n",
    "    del statedict['fixedOutput.weight']\n",
    "    model.load_state_dict(statedict)\n",
    "    modelWriter(model, modelPath)\n",
    "\n",
    "\"\"\"    "
   ]
  }
 ],
 "metadata": {
  "language_info": {
   "name": "python"
  }
 },
 "nbformat": 4,
 "nbformat_minor": 2
}
