{
 "cells": [
  {
   "cell_type": "code",
   "execution_count": 1,
   "metadata": {},
   "outputs": [],
   "source": [
    "import os\n",
    "import re"
   ]
  },
  {
   "cell_type": "code",
   "execution_count": 2,
   "metadata": {},
   "outputs": [],
   "source": [
    "imageDir = \"\"\n",
    "labelDir = \"\"\n",
    "\n",
    "imageNames = []\n",
    "labelNames = []\n",
    "\n",
    "#needed these to test RegEx in browser tools by exporting filenames to txt file, leaving chatGPT comments\n",
    "for filename in os.listdir(imageDir):\n",
    "    current_path = os.path.join(imageDir, filename)\n",
    "    \n",
    "    file_name, file_extension = os.path.splitext(filename)\n",
    "\n",
    "    imageNames.append(file_name)\n",
    "\n",
    "for filename in os.listdir(labelDir):\n",
    "    # Get the current full path of the file\n",
    "    current_path = os.path.join(imageDir, filename)\n",
    "    \n",
    "    # Extract the file name and extension\n",
    "    file_name, file_extension = os.path.splitext(filename)\n",
    "\n",
    "    labelNames.append(file_name)\n",
    "    \n",
    "\n",
    "\n",
    "imageOut = \"\"\n",
    "labelOut = \"\"\n",
    "\n",
    "with open(imageOut, 'w') as file:\n",
    "    # Iterate over the list and write each element to the file\n",
    "    for item in imageNames:\n",
    "        file.write(\"%s\\n\" % item)\n",
    "\n",
    "with open(labelOut, 'w') as file:\n",
    "    # Iterate over the list and write each element to the file\n",
    "    for item in imageNames:\n",
    "        file.write(\"%s\\n\" % item)"
   ]
  },
  {
   "cell_type": "code",
   "execution_count": 2,
   "metadata": {},
   "outputs": [],
   "source": [
    "\n",
    "#find all groups of numbers of arbitrary length\n",
    "#all the file names have 4 groups of numbers conveniently separated.. 3, frame number, 7whatever, case number\n",
    "pattern = r\"(\\d+)\"\n",
    "\n",
    "newImageDir = \"\"\n",
    "newLabelDir = \"\"\n",
    "\n",
    "\n",
    "for filename in os.listdir(newImageDir):\n",
    "    # Get the current full path of the file\n",
    "    current_path = os.path.join(newImageDir, filename)\n",
    "    \n",
    "    # Extract the file name and extension\n",
    "    file_name, file_extension = os.path.splitext(filename)\n",
    "\n",
    "    groups = re.findall(pattern, file_name)\n",
    "\n",
    "    if groups:\n",
    "        #return the second and fourth number group\n",
    "        frameNum = groups[1]\n",
    "        caseNum = groups[3]\n",
    "        whateverNum = groups[2]\n",
    "    \n",
    "    # Define the new file name (modify this based on your requirements)\n",
    "    new_file_name = whateverNum + \"_Train_Case_\" + caseNum + \"_Frame_\" + frameNum + file_extension\n",
    "    \n",
    "    # Define the new full path of the file\n",
    "    new_path = os.path.join(newImageDir, new_file_name)\n",
    "    \n",
    "    # Rename the file\n",
    "    os.rename(current_path, new_path)\n",
    "\n",
    "for filename in os.listdir(newLabelDir):\n",
    "    # Get the current full path of the file\n",
    "    current_path = os.path.join(newLabelDir, filename)\n",
    "    \n",
    "    # Extract the file name and extension\n",
    "    file_name, file_extension = os.path.splitext(filename)\n",
    "\n",
    "    groups = re.findall(pattern, file_name)\n",
    "\n",
    "    if groups:\n",
    "        #return the second and fourth number group\n",
    "        frameNum = groups[1]\n",
    "        caseNum = groups[3]\n",
    "        whateverNum = groups[2]\n",
    "    \n",
    "    # Define the new file name (modify this based on your requirements)\n",
    "    new_file_name = whateverNum + \"_Label_Case_\" + caseNum + \"_Frame_\" + frameNum + file_extension\n",
    "    \n",
    "    # Define the new full path of the file\n",
    "    new_path = os.path.join(newLabelDir, new_file_name)\n",
    "    \n",
    "    # Rename the file\n",
    "    os.rename(current_path, new_path)"
   ]
  },
  {
   "cell_type": "code",
   "execution_count": 3,
   "metadata": {},
   "outputs": [
    {
     "name": "stdout",
     "output_type": "stream",
     "text": [
      "True\n"
     ]
    }
   ],
   "source": [
    "#sanity check to make sure no files got lost and are in order\n",
    "\n",
    "renameLabels = os.listdir(newLabelDir)\n",
    "renameImages = os.listdir(newImageDir)\n",
    "\n",
    "print(len(renameImages) == len(renameLabels))\n",
    "\n",
    "for i in range(0, len(renameLabels)-1):\n",
    "    groups1 = re.findall(pattern, renameImages[i])\n",
    "    groups2 = re.findall(pattern, renameLabels[i])\n",
    "\n",
    "    if groups1 != groups2:\n",
    "        print(\"Something is amiss!\")\n",
    "        break"
   ]
  }
 ],
 "metadata": {
  "kernelspec": {
   "display_name": "Python 3",
   "language": "python",
   "name": "python3"
  },
  "language_info": {
   "codemirror_mode": {
    "name": "ipython",
    "version": 3
   },
   "file_extension": ".py",
   "mimetype": "text/x-python",
   "name": "python",
   "nbconvert_exporter": "python",
   "pygments_lexer": "ipython3",
   "version": "3.11.4"
  }
 },
 "nbformat": 4,
 "nbformat_minor": 2
}
