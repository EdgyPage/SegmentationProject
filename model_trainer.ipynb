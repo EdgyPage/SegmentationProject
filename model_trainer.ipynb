{
 "cells": [
  {
   "attachments": {},
   "cell_type": "markdown",
   "metadata": {},
   "source": [
    "When naming file saves:\n",
    "1. USE TIME STAMPS\n",
    "2. separate values using an underscore\n",
    "3. in the same order, must include the following: size, validationloss, current epoch, total epoch, learning rate, batch size, time stamp\n",
    "4. file name: Unet{downscale}x_VL_{VL}_CE_{CE}_TE_{TE}_LR_{list(lr)}_BS_{BS}_{TS}.pt\n",
    "5. name = Unet{downscale}x_VL_{VL}_CE_{CE}_TE_{TE}_LR_{list(lr)}_BS_{BS}_{TS}\n",
    "\n",
    "Notebook organization\n",
    "1. import libraries\n",
    "2. user function\n",
    "3. user variables\n",
    "4. executables"
   ]
  },
  {
   "cell_type": "code",
   "execution_count": 1,
   "metadata": {},
   "outputs": [],
   "source": [
    "import unet\n",
    "import image_processor\n",
    "import torch\n",
    "import os\n",
    "import zipfile\n",
    "from datetime import datetime\n",
    "import torchvision\n",
    "import matplotlib.pyplot as plt\n",
    "from IPython.display import clear_output"
   ]
  },
  {
   "cell_type": "code",
   "execution_count": 2,
   "metadata": {},
   "outputs": [],
   "source": [
    "def modelWriter(model, path : str):\n",
    "    torch.save(model.state_dict(), path)\n",
    "    \n",
    "#thanks chatGPT\n",
    "def zip_file(file_path, zip_path):\n",
    "    with zipfile.ZipFile(zip_path, 'w', zipfile.ZIP_DEFLATED) as zipf:\n",
    "        zipf.write(file_path, arcname=os.path.basename(file_path))\n",
    "    os.remove(file_path)\n"
   ]
  },
  {
   "cell_type": "code",
   "execution_count": 3,
   "metadata": {},
   "outputs": [],
   "source": [
    "\n",
    "imageDir = r\"C:\\Users\\myfir\\My Drive\\Segmentation_Files\\Datasets\\Rename_Data\\train_val\\Rename_TrainVal_Image\"\n",
    "labelDir = r\"C:\\Users\\myfir\\My Drive\\Segmentation_Files\\Datasets\\Rename_Data\\train_val\\Rename_TrainVal_Label\"\n",
    "modelSaveDir = r\"C:\\Users\\myfir\\My Drive\\Segmentation_Files\\Models\\Test\"\n",
    "\n",
    "\n",
    "\n",
    "#class name\n",
    "baseModel = \"unet\"\n",
    "\n",
    "#downscale\n",
    "downscale = 16\n",
    "\n",
    "transform = torchvision.transforms.Compose([\n",
    "    torchvision.transforms.Resize((int(256/downscale), int(1024/downscale)))])\n",
    "\n",
    "batchSizes = [16]\n",
    "epochs = [400]\n",
    "learningRates = [.001, .0005]\n",
    "\n",
    "if torch.cuda.is_available():\n",
    "    device = 'cuda'\n",
    "else:\n",
    "    device = 'cpu'\n",
    "\n",
    "saveDir= f'{modelSaveDir}/{baseModel}/'\n",
    "\n"
   ]
  },
  {
   "cell_type": "code",
   "execution_count": 4,
   "metadata": {},
   "outputs": [
    {
     "name": "stdout",
     "output_type": "stream",
     "text": [
      "EPOCHS: 400 | LR: 0.001 | BATCH: 16\n",
      "EPOCH: 1 | 2024-04-12_18-54-50\n",
      "EPOCH: 1 | TRAIN LOSS: 4619 | 2024-04-12_18-55-36\n",
      "EPOCH: 1 | VAL LOSS: 4094 | 2024-04-12_18-55-36\n",
      "C:\\Users\\myfir\\My Drive\\Segmentation_Files\\Models\\Test/unet/unet16x_VL_4094_CE_1_TE_400_LR_0.001_BS_16_TS_2024-04-12_18-55-36.pt saved\n"
     ]
    },
    {
     "data": {
      "image/png": "[encoded data removed]",
      "text/plain": [
       "<Figure size 640x480 with 1 Axes>"
      ]
     },
     "metadata": {},
     "output_type": "display_data"
    },
    {
     "name": "stdout",
     "output_type": "stream",
     "text": [
      "EPOCH: 2 | 2024-04-12_18-56-17\n"
     ]
    },
    {
     "ename": "KeyboardInterrupt",
     "evalue": "",
     "output_type": "error",
     "traceback": [
      "\u001b[1;31m---------------------------------------------------------------------------\u001b[0m",
      "\u001b[1;31mKeyboardInterrupt\u001b[0m                         Traceback (most recent call last)",
      "Cell \u001b[1;32mIn[4], line 22\u001b[0m\n\u001b[0;32m     20\u001b[0m runningLoss \u001b[38;5;241m=\u001b[39m \u001b[38;5;241m0\u001b[39m\n\u001b[0;32m     21\u001b[0m trainingLoss \u001b[38;5;241m=\u001b[39m \u001b[38;5;241m0\u001b[39m\n\u001b[1;32m---> 22\u001b[0m \u001b[38;5;28;01mfor\u001b[39;00m image, label \u001b[38;5;129;01min\u001b[39;00m trainLoader:\n\u001b[0;32m     23\u001b[0m     image \u001b[38;5;241m=\u001b[39m image\u001b[38;5;241m.\u001b[39mto(device)\n\u001b[0;32m     24\u001b[0m     label \u001b[38;5;241m=\u001b[39m label\u001b[38;5;241m.\u001b[39mto(device)\n",
      "File \u001b[1;32mc:\\Users\\myfir\\AppData\\Local\\Programs\\Python\\Python311\\Lib\\site-packages\\torch\\utils\\data\\dataloader.py:438\u001b[0m, in \u001b[0;36mDataLoader.__iter__\u001b[1;34m(self)\u001b[0m\n\u001b[0;32m    436\u001b[0m     \u001b[38;5;28;01mreturn\u001b[39;00m \u001b[38;5;28mself\u001b[39m\u001b[38;5;241m.\u001b[39m_iterator\n\u001b[0;32m    437\u001b[0m \u001b[38;5;28;01melse\u001b[39;00m:\n\u001b[1;32m--> 438\u001b[0m     \u001b[38;5;28;01mreturn\u001b[39;00m \u001b[38;5;28;43mself\u001b[39;49m\u001b[38;5;241;43m.\u001b[39;49m\u001b[43m_get_iterator\u001b[49m\u001b[43m(\u001b[49m\u001b[43m)\u001b[49m\n",
      "File \u001b[1;32mc:\\Users\\myfir\\AppData\\Local\\Programs\\Python\\Python311\\Lib\\site-packages\\torch\\utils\\data\\dataloader.py:386\u001b[0m, in \u001b[0;36mDataLoader._get_iterator\u001b[1;34m(self)\u001b[0m\n\u001b[0;32m    384\u001b[0m \u001b[38;5;28;01melse\u001b[39;00m:\n\u001b[0;32m    385\u001b[0m     \u001b[38;5;28mself\u001b[39m\u001b[38;5;241m.\u001b[39mcheck_worker_number_rationality()\n\u001b[1;32m--> 386\u001b[0m     \u001b[38;5;28;01mreturn\u001b[39;00m \u001b[43m_MultiProcessingDataLoaderIter\u001b[49m\u001b[43m(\u001b[49m\u001b[38;5;28;43mself\u001b[39;49m\u001b[43m)\u001b[49m\n",
      "File \u001b[1;32mc:\\Users\\myfir\\AppData\\Local\\Programs\\Python\\Python311\\Lib\\site-packages\\torch\\utils\\data\\dataloader.py:1039\u001b[0m, in \u001b[0;36m_MultiProcessingDataLoaderIter.__init__\u001b[1;34m(self, loader)\u001b[0m\n\u001b[0;32m   1032\u001b[0m w\u001b[38;5;241m.\u001b[39mdaemon \u001b[38;5;241m=\u001b[39m \u001b[38;5;28;01mTrue\u001b[39;00m\n\u001b[0;32m   1033\u001b[0m \u001b[38;5;66;03m# NB: Process.start() actually take some time as it needs to\u001b[39;00m\n\u001b[0;32m   1034\u001b[0m \u001b[38;5;66;03m#     start a process and pass the arguments over via a pipe.\u001b[39;00m\n\u001b[0;32m   1035\u001b[0m \u001b[38;5;66;03m#     Therefore, we only add a worker to self._workers list after\u001b[39;00m\n\u001b[0;32m   1036\u001b[0m \u001b[38;5;66;03m#     it started, so that we do not call .join() if program dies\u001b[39;00m\n\u001b[0;32m   1037\u001b[0m \u001b[38;5;66;03m#     before it starts, and __del__ tries to join but will get:\u001b[39;00m\n\u001b[0;32m   1038\u001b[0m \u001b[38;5;66;03m#     AssertionError: can only join a started process.\u001b[39;00m\n\u001b[1;32m-> 1039\u001b[0m \u001b[43mw\u001b[49m\u001b[38;5;241;43m.\u001b[39;49m\u001b[43mstart\u001b[49m\u001b[43m(\u001b[49m\u001b[43m)\u001b[49m\n\u001b[0;32m   1040\u001b[0m \u001b[38;5;28mself\u001b[39m\u001b[38;5;241m.\u001b[39m_index_queues\u001b[38;5;241m.\u001b[39mappend(index_queue)\n\u001b[0;32m   1041\u001b[0m \u001b[38;5;28mself\u001b[39m\u001b[38;5;241m.\u001b[39m_workers\u001b[38;5;241m.\u001b[39mappend(w)\n",
      "File \u001b[1;32mc:\\Users\\myfir\\AppData\\Local\\Programs\\Python\\Python311\\Lib\\multiprocessing\\process.py:121\u001b[0m, in \u001b[0;36mBaseProcess.start\u001b[1;34m(self)\u001b[0m\n\u001b[0;32m    118\u001b[0m \u001b[38;5;28;01massert\u001b[39;00m \u001b[38;5;129;01mnot\u001b[39;00m _current_process\u001b[38;5;241m.\u001b[39m_config\u001b[38;5;241m.\u001b[39mget(\u001b[38;5;124m'\u001b[39m\u001b[38;5;124mdaemon\u001b[39m\u001b[38;5;124m'\u001b[39m), \\\n\u001b[0;32m    119\u001b[0m        \u001b[38;5;124m'\u001b[39m\u001b[38;5;124mdaemonic processes are not allowed to have children\u001b[39m\u001b[38;5;124m'\u001b[39m\n\u001b[0;32m    120\u001b[0m _cleanup()\n\u001b[1;32m--> 121\u001b[0m \u001b[38;5;28mself\u001b[39m\u001b[38;5;241m.\u001b[39m_popen \u001b[38;5;241m=\u001b[39m \u001b[38;5;28;43mself\u001b[39;49m\u001b[38;5;241;43m.\u001b[39;49m\u001b[43m_Popen\u001b[49m\u001b[43m(\u001b[49m\u001b[38;5;28;43mself\u001b[39;49m\u001b[43m)\u001b[49m\n\u001b[0;32m    122\u001b[0m \u001b[38;5;28mself\u001b[39m\u001b[38;5;241m.\u001b[39m_sentinel \u001b[38;5;241m=\u001b[39m \u001b[38;5;28mself\u001b[39m\u001b[38;5;241m.\u001b[39m_popen\u001b[38;5;241m.\u001b[39msentinel\n\u001b[0;32m    123\u001b[0m \u001b[38;5;66;03m# Avoid a refcycle if the target function holds an indirect\u001b[39;00m\n\u001b[0;32m    124\u001b[0m \u001b[38;5;66;03m# reference to the process object (see bpo-30775)\u001b[39;00m\n",
      "File \u001b[1;32mc:\\Users\\myfir\\AppData\\Local\\Programs\\Python\\Python311\\Lib\\multiprocessing\\context.py:224\u001b[0m, in \u001b[0;36mProcess._Popen\u001b[1;34m(process_obj)\u001b[0m\n\u001b[0;32m    222\u001b[0m \u001b[38;5;129m@staticmethod\u001b[39m\n\u001b[0;32m    223\u001b[0m \u001b[38;5;28;01mdef\u001b[39;00m \u001b[38;5;21m_Popen\u001b[39m(process_obj):\n\u001b[1;32m--> 224\u001b[0m     \u001b[38;5;28;01mreturn\u001b[39;00m \u001b[43m_default_context\u001b[49m\u001b[38;5;241;43m.\u001b[39;49m\u001b[43mget_context\u001b[49m\u001b[43m(\u001b[49m\u001b[43m)\u001b[49m\u001b[38;5;241;43m.\u001b[39;49m\u001b[43mProcess\u001b[49m\u001b[38;5;241;43m.\u001b[39;49m\u001b[43m_Popen\u001b[49m\u001b[43m(\u001b[49m\u001b[43mprocess_obj\u001b[49m\u001b[43m)\u001b[49m\n",
      "File \u001b[1;32mc:\\Users\\myfir\\AppData\\Local\\Programs\\Python\\Python311\\Lib\\multiprocessing\\context.py:336\u001b[0m, in \u001b[0;36mSpawnProcess._Popen\u001b[1;34m(process_obj)\u001b[0m\n\u001b[0;32m    333\u001b[0m \u001b[38;5;129m@staticmethod\u001b[39m\n\u001b[0;32m    334\u001b[0m \u001b[38;5;28;01mdef\u001b[39;00m \u001b[38;5;21m_Popen\u001b[39m(process_obj):\n\u001b[0;32m    335\u001b[0m     \u001b[38;5;28;01mfrom\u001b[39;00m \u001b[38;5;21;01m.\u001b[39;00m\u001b[38;5;21;01mpopen_spawn_win32\u001b[39;00m \u001b[38;5;28;01mimport\u001b[39;00m Popen\n\u001b[1;32m--> 336\u001b[0m     \u001b[38;5;28;01mreturn\u001b[39;00m \u001b[43mPopen\u001b[49m\u001b[43m(\u001b[49m\u001b[43mprocess_obj\u001b[49m\u001b[43m)\u001b[49m\n",
      "File \u001b[1;32mc:\\Users\\myfir\\AppData\\Local\\Programs\\Python\\Python311\\Lib\\multiprocessing\\popen_spawn_win32.py:94\u001b[0m, in \u001b[0;36mPopen.__init__\u001b[1;34m(self, process_obj)\u001b[0m\n\u001b[0;32m     92\u001b[0m \u001b[38;5;28;01mtry\u001b[39;00m:\n\u001b[0;32m     93\u001b[0m     reduction\u001b[38;5;241m.\u001b[39mdump(prep_data, to_child)\n\u001b[1;32m---> 94\u001b[0m     \u001b[43mreduction\u001b[49m\u001b[38;5;241;43m.\u001b[39;49m\u001b[43mdump\u001b[49m\u001b[43m(\u001b[49m\u001b[43mprocess_obj\u001b[49m\u001b[43m,\u001b[49m\u001b[43m \u001b[49m\u001b[43mto_child\u001b[49m\u001b[43m)\u001b[49m\n\u001b[0;32m     95\u001b[0m \u001b[38;5;28;01mfinally\u001b[39;00m:\n\u001b[0;32m     96\u001b[0m     set_spawning_popen(\u001b[38;5;28;01mNone\u001b[39;00m)\n",
      "File \u001b[1;32mc:\\Users\\myfir\\AppData\\Local\\Programs\\Python\\Python311\\Lib\\multiprocessing\\reduction.py:60\u001b[0m, in \u001b[0;36mdump\u001b[1;34m(obj, file, protocol)\u001b[0m\n\u001b[0;32m     58\u001b[0m \u001b[38;5;28;01mdef\u001b[39;00m \u001b[38;5;21mdump\u001b[39m(obj, file, protocol\u001b[38;5;241m=\u001b[39m\u001b[38;5;28;01mNone\u001b[39;00m):\n\u001b[0;32m     59\u001b[0m \u001b[38;5;250m    \u001b[39m\u001b[38;5;124;03m'''Replacement for pickle.dump() using ForkingPickler.'''\u001b[39;00m\n\u001b[1;32m---> 60\u001b[0m     \u001b[43mForkingPickler\u001b[49m\u001b[43m(\u001b[49m\u001b[43mfile\u001b[49m\u001b[43m,\u001b[49m\u001b[43m \u001b[49m\u001b[43mprotocol\u001b[49m\u001b[43m)\u001b[49m\u001b[38;5;241;43m.\u001b[39;49m\u001b[43mdump\u001b[49m\u001b[43m(\u001b[49m\u001b[43mobj\u001b[49m\u001b[43m)\u001b[49m\n",
      "\u001b[1;31mKeyboardInterrupt\u001b[0m: "
     ]
    }
   ],
   "source": [
    "for e in epochs:\n",
    "    for lr in learningRates:\n",
    "        for bs in batchSizes:\n",
    "            model = unet.unet()\n",
    "            model.to(device)\n",
    "\n",
    "            trainLoader, valLoader = image_processor.imageDirsToLoaders(imageDir=imageDir, labelDir= labelDir, batchSize= bs, labelTransforms=transform, imageTransforms=transform)\n",
    "            optimizer = torch.optim.Adam(model.parameters(), lr=lr)\n",
    "            loss = torch.nn.MSELoss()\n",
    "\n",
    "            print(f'EPOCHS: {e} | LR: {lr} | BATCH: {bs}')\n",
    "\n",
    "            for i in range(e):\n",
    "                #if (i+1) > 200:\n",
    "                #    lr = .0001\n",
    "                model.train()\n",
    "                currentTime = datetime.now()\n",
    "                formatTime = currentTime.strftime(\"%Y-%m-%d_%H-%M-%S\")\n",
    "                print(f'EPOCH: {i+1} | {formatTime}')\n",
    "                runningLoss = 0\n",
    "                trainingLoss = 0\n",
    "                for image, label in trainLoader:\n",
    "                    image = image.to(device)\n",
    "                    label = label.to(device)\n",
    "                    optimizer.zero_grad()\n",
    "                    outputClasses = model(image)\n",
    "                    \n",
    "                    batchLoss = loss(outputClasses, label)\n",
    "                    \n",
    "                    batchLoss.backward()\n",
    "                    optimizer.step()\n",
    "                    trainingLoss += batchLoss\n",
    "\n",
    "                currentTime = datetime.now()\n",
    "                formatTime = currentTime.strftime(\"%Y-%m-%d_%H-%M-%S\")\n",
    "                trainingLoss = round(trainingLoss.item()/len(trainLoader))\n",
    "                print(f\"EPOCH: {i+1} | TRAIN LOSS: {trainingLoss} | {formatTime}\")\n",
    "\n",
    "                \n",
    "                batchLoss = 0\n",
    "                trainingLoss = 0\n",
    "            \n",
    "                validationLoss = 0\n",
    "\n",
    "                model.eval()\n",
    "                with torch.no_grad():\n",
    "                    for image, label in valLoader:\n",
    "                        image = image.to(device)\n",
    "                        label = label.to(device)\n",
    "                        outputs = model(image)\n",
    "                        valBatchLoss = loss(outputs, label)\n",
    "                        validationLoss += valBatchLoss\n",
    "                \n",
    "                validationLoss = round(validationLoss.item()/len(valLoader))\n",
    "                model.validationLosses.append(validationLoss)\n",
    "                model.trainingLosses.append(trainingLoss)\n",
    "\n",
    "                print(f\"EPOCH: {i+1} | VAL LOSS: {validationLoss} | {formatTime}\")\n",
    "\n",
    "                detailedName = f'{baseModel}{downscale}x_VL_{validationLoss}_CE_{i+1}_TE_{e}_LR_{lr}_BS_{bs}_TS_{formatTime}'\n",
    "                model.name = detailedName\n",
    "                if not os.path.exists(saveDir):\n",
    "                    os.makedirs(saveDir)\n",
    "                \n",
    "                modelSavePath = os.path.join(saveDir, f'{detailedName}.pt')\n",
    "                \n",
    "                torch.save(\n",
    "                        {\n",
    "                        'model_state_dict': model.state_dict(),\n",
    "                        'model_name': model.name,\n",
    "                        'training_losses': model.trainingLosses,\n",
    "                        'validation_losses': model.validationLosses\n",
    "                    }\n",
    "                        , modelSavePath )\n",
    "                print(f'{modelSavePath} saved')\n",
    "                epochsSoFar = list(j for j in range(1, i+2))\n",
    "                plt.plot(epochsSoFar, model.trainingLosses,  label = 'Training Loss', color = 'red')\n",
    "                plt.plot( epochsSoFar, model.validationLosses, label = 'Validation Loss', color = 'blue')\n",
    "                plt.legend()\n",
    "                plt.show()\n",
    "\n",
    "                if (i+1) % 10 == 0:\n",
    "                    clear_output(wait=True)\n",
    "\n",
    "            \n",
    "            \n",
    "\n",
    "\n"
   ]
  }
 ],
 "metadata": {
  "kernelspec": {
   "display_name": "Python 3",
   "language": "python",
   "name": "python3"
  },
  "language_info": {
   "codemirror_mode": {
    "name": "ipython",
    "version": 3
   },
   "file_extension": ".py",
   "mimetype": "text/x-python",
   "name": "python",
   "nbconvert_exporter": "python",
   "pygments_lexer": "ipython3",
   "version": "3.11.4"
  }
 },
 "nbformat": 4,
 "nbformat_minor": 2
}
