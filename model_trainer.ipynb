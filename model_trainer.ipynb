{
 "cells": [
  {
   "attachments": {},
   "cell_type": "markdown",
   "metadata": {},
   "source": [
    "When naming file saves:\n",
    "1. USE TIME STAMPS\n",
    "2. separate values using an underscore\n",
    "3. in the same order, must include the following: size, validationloss, current epoch, total epoch, learning rate, batch size, time stamp\n",
    "4. file name: Unet{downscale}x_VL_{VL}_CE_{CE}_TE_{TE}_LR_{list(lr)}_BS_{BS}_{TS}.pt\n",
    "5. name = Unet{downscale}x_VL_{VL}_CE_{CE}_TE_{TE}_LR_{list(lr)}_BS_{BS}_{TS}\n",
    "\n",
    "Notebook organization\n",
    "1. import libraries\n",
    "2. user function\n",
    "3. user variables\n",
    "4. executables"
   ]
  },
  {
   "cell_type": "code",
   "execution_count": 1,
   "metadata": {},
   "outputs": [],
   "source": [
    "import unet\n",
    "import image_processor\n",
    "import torch\n",
    "import os\n",
    "import zipfile\n",
    "from datetime import datetime\n",
    "import torchvision\n",
    "import matplotlib.pyplot as plt\n",
    "from IPython.display import clear_output"
   ]
  },
  {
   "cell_type": "code",
   "execution_count": 2,
   "metadata": {},
   "outputs": [],
   "source": [
    "def modelWriter(model, path : str):\n",
    "    torch.save(model.state_dict(), path)\n",
    "    \n",
    "#thanks chatGPT\n",
    "def zip_file(file_path, zip_path):\n",
    "    with zipfile.ZipFile(zip_path, 'w', zipfile.ZIP_DEFLATED) as zipf:\n",
    "        zipf.write(file_path, arcname=os.path.basename(file_path))\n",
    "    os.remove(file_path)\n"
   ]
  },
  {
   "cell_type": "code",
   "execution_count": 3,
   "metadata": {},
   "outputs": [],
   "source": [
    "\n",
    "imageDir = r\"C:\\Users\\myfir\\My Drive\\Segmentation_Files\\Datasets\\Rename_Data\\train_val\\Rename_TrainVal_Image\"\n",
    "labelDir = r\"C:\\Users\\myfir\\My Drive\\Segmentation_Files\\Datasets\\Rename_Data\\train_val\\Rename_TrainVal_Label\"\n",
    "modelSaveDir = r\"C:\\Users\\myfir\\My Drive\\Segmentation_Files\\Models\\5-10\"\n",
    "\n",
    "\n",
    "\n",
    "#class name\n",
    "baseModel = \"unet\"\n",
    "\n",
    "#downscale\n",
    "downscale = 16\n",
    "\n",
    "transform = torchvision.transforms.Compose([\n",
    "    torchvision.transforms.Resize((int(256/downscale), int(1024/downscale)))])\n",
    "\n",
    "batchSizes = [16]\n",
    "epochs = [100]\n",
    "learningRates = [.001]\n",
    "\n",
    "if torch.cuda.is_available():\n",
    "    device = 'cuda'\n",
    "else:\n",
    "    device = 'cpu'\n",
    "\n",
    "saveDir= f'{modelSaveDir}/{baseModel}/'\n",
    "\n"
   ]
  },
  {
   "cell_type": "code",
   "execution_count": 4,
   "metadata": {},
   "outputs": [
    {
     "name": "stdout",
     "output_type": "stream",
     "text": [
      "EPOCH: 51 | 2024-05-10_11-53-26\n",
      "EPOCH: 51 | TRAIN LOSS: 194 | 2024-05-10_11-54-11\n",
      "EPOCH: 51 | VAL LOSS: 252 | 2024-05-10_11-54-11\n",
      "C:\\Users\\myfir\\My Drive\\Segmentation_Files\\Models\\5-10/unet/unet16x_VL_252_CE_51_TE_100_LR_0.001_BS_16_TS_2024-05-10_11-54-11.pt saved\n"
     ]
    },
    {
     "data": {
      "image/png": "[encoded data removed]",
      "text/plain": [
       "<Figure size 640x480 with 1 Axes>"
      ]
     },
     "metadata": {},
     "output_type": "display_data"
    },
    {
     "name": "stdout",
     "output_type": "stream",
     "text": [
      "EPOCH: 52 | 2024-05-10_11-54-56\n"
     ]
    }
   ],
   "source": [
    "for e in epochs:\n",
    "    for lr in learningRates:\n",
    "        for bs in batchSizes:\n",
    "            model = unet.unet()\n",
    "            model.to(device)\n",
    "\n",
    "            trainLoader, valLoader = image_processor.imageDirsToLoaders(imageDir=imageDir, labelDir= labelDir, batchSize= bs, labelTransforms=transform, imageTransforms=transform)\n",
    "            optimizer = torch.optim.Adam(model.parameters(), lr=lr)\n",
    "            loss = torch.nn.MSELoss()\n",
    "\n",
    "            print(f'EPOCHS: {e} | LR: {lr} | BATCH: {bs}')\n",
    "\n",
    "            for i in range(e):\n",
    "                #if (i+1) > 200:\n",
    "                #    lr = .0001\n",
    "                model.train()\n",
    "                currentTime = datetime.now()\n",
    "                formatTime = currentTime.strftime(\"%Y-%m-%d_%H-%M-%S\")\n",
    "                print(f'EPOCH: {i+1} | {formatTime}')\n",
    "                runningLoss = 0\n",
    "                trainingLoss = 0\n",
    "                validationLoss = 0\n",
    "                for image, label in trainLoader:\n",
    "                    image = image.to(device)\n",
    "                    label = label.to(device)\n",
    "                    optimizer.zero_grad()\n",
    "                    outputClasses = model(image)\n",
    "                    \n",
    "                    batchLoss = loss(outputClasses, label)\n",
    "                    \n",
    "                    batchLoss.backward()\n",
    "                    optimizer.step()\n",
    "                    trainingLoss += batchLoss\n",
    "\n",
    "                currentTime = datetime.now()\n",
    "                formatTime = currentTime.strftime(\"%Y-%m-%d_%H-%M-%S\")\n",
    "                trainingLoss = round(trainingLoss.item()/len(trainLoader))\n",
    "                print(f\"EPOCH: {i+1} | TRAIN LOSS: {trainingLoss} | {formatTime}\")\n",
    "\n",
    "                model.eval()\n",
    "                with torch.no_grad():\n",
    "                    for image, label in valLoader:\n",
    "                        image = image.float()\n",
    "                        label = label.float()\n",
    "                        image = image.to(device)\n",
    "                        label = label.to(device)\n",
    "                        outputs = model(image)\n",
    "                        valBatchLoss = loss(outputs, label)\n",
    "                        validationLoss += valBatchLoss\n",
    "                \n",
    "                validationLoss = round(validationLoss.item()/len(valLoader))\n",
    "                model.validationLosses.append(validationLoss)\n",
    "                model.trainingLosses.append(trainingLoss)\n",
    "\n",
    "                print(f\"EPOCH: {i+1} | VAL LOSS: {validationLoss} | {formatTime}\")\n",
    "\n",
    "                detailedName = f'{baseModel}{downscale}x_VL_{validationLoss}_CE_{i+1}_TE_{e}_LR_{lr}_BS_{bs}_TS_{formatTime}'\n",
    "                model.name = detailedName\n",
    "                if not os.path.exists(saveDir):\n",
    "                    os.makedirs(saveDir)\n",
    "                \n",
    "                modelSavePath = os.path.join(saveDir, f'{detailedName}.pt')\n",
    "                \n",
    "                model.saveAttributes(modelSavePath)\n",
    "                \n",
    "                print(f'{modelSavePath} saved')\n",
    "                epochsSoFar = list(j for j in range(1, i+2))\n",
    "                plt.plot(epochsSoFar, model.trainingLosses,  label = 'Training Loss', color = 'red')\n",
    "                plt.plot( epochsSoFar, model.validationLosses, label = 'Validation Loss', color = 'blue')\n",
    "                plt.legend()\n",
    "                plt.show()\n",
    "\n",
    "                if (i+1) % 10 == 0:\n",
    "                    clear_output(wait=True)\n",
    "\n",
    "            \n",
    "            \n",
    "\n",
    "\n"
   ]
  }
 ],
 "metadata": {
  "kernelspec": {
   "display_name": "Python 3",
   "language": "python",
   "name": "python3"
  },
  "language_info": {
   "codemirror_mode": {
    "name": "ipython",
    "version": 3
   },
   "file_extension": ".py",
   "mimetype": "text/x-python",
   "name": "python",
   "nbconvert_exporter": "python",
   "pygments_lexer": "ipython3",
   "version": "3.11.4"
  }
 },
 "nbformat": 4,
 "nbformat_minor": 2
}
